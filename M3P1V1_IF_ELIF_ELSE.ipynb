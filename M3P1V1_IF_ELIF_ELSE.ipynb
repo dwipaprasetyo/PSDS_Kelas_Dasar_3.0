{
 "cells": [
  {
   "cell_type": "markdown",
   "metadata": {},
   "source": [
    "Percabangan/Struktur Pemilihan"
   ]
  },
  {
   "cell_type": "markdown",
   "metadata": {},
   "source": [
    "Pada bagian ini, kamu akan membuat keputusan pada bahasa pemrograman python menggunakan struktur percabangan atau juga sering disebut IF ELSE Statement. Pengambilan keputusan dibutuhkan ketika kamu akan mengeksekusi suatu kode jika sebuah kondisi tertentu dipenuhi.\n",
    "\n",
    "Statement if...elif...else digunakan pada bahasa Python untuk pengambilan keputusan"
   ]
  },
  {
   "cell_type": "markdown",
   "metadata": {},
   "source": [
    "IF Statement"
   ]
  },
  {
   "cell_type": "markdown",
   "metadata": {},
   "source": [
    "Python IF Statement Syntax"
   ]
  },
  {
   "cell_type": "raw",
   "metadata": {},
   "source": [
    "if test expression:\n",
    "    statement(s)"
   ]
  },
  {
   "cell_type": "markdown",
   "metadata": {},
   "source": [
    "Example : Python IF Statement"
   ]
  },
  {
   "cell_type": "code",
   "execution_count": 1,
   "metadata": {},
   "outputs": [
    {
     "name": "stdout",
     "output_type": "stream",
     "text": [
      "3 adalah bilangan positif.\n",
      "pernyataan ini selalu ditampilkan\n",
      "------------------------------\n",
      "pernyataan ini juga selalu ditampilkan\n"
     ]
    }
   ],
   "source": [
    "#Jika angka adalah bilangan positif maka print \"adalah bilangan positif\"\n",
    "angka=3\n",
    "if angka>0:\n",
    "    print(angka,\"adalah bilangan positif.\")\n",
    "print(\"pernyataan ini selalu ditampilkan\")\n",
    "print(\"-\"*30)\n",
    "angka =-1\n",
    "if angka>0:\n",
    "    print(angka,\"adalah bilangan positif\")\n",
    "print(\"pernyataan ini juga selalu ditampilkan\")"
   ]
  },
  {
   "cell_type": "markdown",
   "metadata": {},
   "source": [
    "IF ELSE Statement"
   ]
  },
  {
   "cell_type": "raw",
   "metadata": {},
   "source": [
    "Python IF ELSE Statement Syntax"
   ]
  },
  {
   "cell_type": "code",
   "execution_count": null,
   "metadata": {},
   "outputs": [],
   "source": [
    "if test expression:\n",
    "    body of if\n",
    "else:\n",
    "    body of else"
   ]
  },
  {
   "cell_type": "markdown",
   "metadata": {},
   "source": [
    "Example: Python IF ELSE Statement"
   ]
  },
  {
   "cell_type": "code",
   "execution_count": 2,
   "metadata": {},
   "outputs": [
    {
     "name": "stdout",
     "output_type": "stream",
     "text": [
      "Bilangan lebih dari atau samadengan 0\n"
     ]
    }
   ],
   "source": [
    "#Program disusun untuk mengecek apakah angka tersebut kurang dari 0 atau tidak\n",
    "#dan menampilkan tulisan yang sesuai\n",
    "\n",
    "angka=3\n",
    "if angka>=0:\n",
    "    print(\"Bilangan lebih dari atau samadengan 0\")\n",
    "else:\n",
    "    print(\"Bilangan kurang dari nol\")"
   ]
  },
  {
   "cell_type": "code",
   "execution_count": 3,
   "metadata": {},
   "outputs": [
    {
     "name": "stdout",
     "output_type": "stream",
     "text": [
      "a dan b bernilai sama\n"
     ]
    }
   ],
   "source": [
    "#Program disusun untuk mengecek apakah dua buah angka sama atau tidak\n",
    "#dan menampilkan tulisan yang sesuai\n",
    "a=5\n",
    "b=5\n",
    "if a==b:\n",
    "    print(\"a dan b bernilai sama\")\n",
    "else:\n",
    "    print(\"a dan b bernilai berbeda\")\n",
    "    print(\"Belajar If Else\")"
   ]
  },
  {
   "cell_type": "code",
   "execution_count": 4,
   "metadata": {},
   "outputs": [
    {
     "name": "stdout",
     "output_type": "stream",
     "text": [
      "Masukkan bilangan pertama: 3\n",
      "Masukkan bilangan kedua: 5\n",
      "Bilangan yang lebih besar adalah: 5\n"
     ]
    }
   ],
   "source": [
    "#Program disusun untuk mengecek apakah perbandingan dua buah angka \n",
    "#dan menampilkan tulisan yang sesuai\n",
    "# membaca dua angka\n",
    "bil1=int(input(\"Masukkan bilangan pertama: \"))\n",
    "bil2=int(input(\"Masukkan bilangan kedua: \"))\n",
    "\n",
    "#Memilih bilangan yang lebih besar\n",
    "if bil1 > bil2:\n",
    "    bil_lebih_besar=bil1\n",
    "else:\n",
    "    bil_lebih_besar=bil2\n",
    "\n",
    "# menampilkan hasil\n",
    "print(\"Bilangan yang lebih besar adalah:\", bil_lebih_besar)"
   ]
  },
  {
   "cell_type": "markdown",
   "metadata": {},
   "source": [
    "IF ELIF ELSE Statement"
   ]
  },
  {
   "cell_type": "code",
   "execution_count": null,
   "metadata": {},
   "outputs": [],
   "source": [
    "Python IF ELIF ELSE Statement Syntax\n",
    "if test expression:\n",
    "    Body of if\n",
    "elif test expression:\n",
    "    Body of elif\n",
    "else:\n",
    "    Body of else"
   ]
  },
  {
   "cell_type": "markdown",
   "metadata": {},
   "source": [
    "Example : Python IF ELIF ELSE Statement"
   ]
  },
  {
   "cell_type": "code",
   "execution_count": 5,
   "metadata": {},
   "outputs": [
    {
     "name": "stdout",
     "output_type": "stream",
     "text": [
      "Bilangan Positif\n"
     ]
    }
   ],
   "source": [
    "#Program disusun untuk mengecek apakah angka merupakan bilangan positif, negatif atau nol \n",
    "#dan menampilkan tulisan yang sesuai\n",
    "angka = 3.4\n",
    "\n",
    "if angka>0:\n",
    "    print(\"Bilangan Positif\")\n",
    "elif angka ==0:\n",
    "    print(\"NOL\")\n",
    "else:\n",
    "    print(\"Bilangan Negatif\")"
   ]
  },
  {
   "cell_type": "code",
   "execution_count": 6,
   "metadata": {},
   "outputs": [
    {
     "name": "stdout",
     "output_type": "stream",
     "text": [
      "x habis dibagi dua\n",
      "x tidak habis dibagi dua, tiga, ataupun lima\n"
     ]
    }
   ],
   "source": [
    "#Statement if\n",
    "x=4\n",
    "if x%2 == 0: #Jika x dibagi dua sisanya samadengan 0\n",
    "    print(\"x habis dibagi dua\")\n",
    "\n",
    "#statement if...elif...else\n",
    "x=7\n",
    "if x%2==0: #jika x dibagi 2 sisanya samadengan 0\n",
    "    print(\"x habis dibagi 2\")\n",
    "elif x%3==0: #jika x dibagi 3 sisanya samadengan 0\n",
    "    print(\"x habis dibagi 3\")\n",
    "elif x%5 ==0: #jika x dibagi 5 sisanya samadengan 0\n",
    "    print(\"x habis dibagi 5\")\n",
    "else:\n",
    "    print(\"x tidak habis dibagi dua, tiga, ataupun lima\")"
   ]
  },
  {
   "cell_type": "markdown",
   "metadata": {},
   "source": [
    "Python Nested IF Statement"
   ]
  },
  {
   "cell_type": "markdown",
   "metadata": {},
   "source": [
    "Example: Python NESTED IF Statement"
   ]
  },
  {
   "cell_type": "code",
   "execution_count": 7,
   "metadata": {},
   "outputs": [
    {
     "name": "stdout",
     "output_type": "stream",
     "text": [
      "Masukan angka: 4\n",
      "Bilangan Positif\n"
     ]
    }
   ],
   "source": [
    "#Program disusun untuk mengecek apakah angka merupakan bilangan positif, negatif atau nol \n",
    "#dan menampilkan tulisan yang sesuai\n",
    "angka = float(input(\"Masukan angka: \"))\n",
    "if angka >=0:\n",
    "    if angka==0:\n",
    "        print(\"Nol\")\n",
    "    else:\n",
    "        print(\"Bilangan Positif\")\n",
    "else:\n",
    "    print(\"Bilangan Negatif\")"
   ]
  },
  {
   "cell_type": "raw",
   "metadata": {},
   "source": [
    "Latihan\n",
    "\n",
    "Buatlah sebuah fungsi \"Mahal_Diskon\" dengan ketentuan:\n",
    "    >Input berupa harga produk dengan tiga data numerik tunggal\n",
    "    >Kategori Input adalah \"Murah\" dan \"Mahal\", kemudian diskon ada 3 kategori \"10%\",\"20%\",dan\"40%\"\n",
    "    >Output pertama sebuah teks/string yang menyatakan \"Mahal\" atau \"Murah\" dan keterangan \"Kamu dapat diskon...\"\n",
    "    >Output kedua adalah harga yang perlu dibayarkan"
   ]
  },
  {
   "cell_type": "code",
   "execution_count": 8,
   "metadata": {},
   "outputs": [
    {
     "name": "stdout",
     "output_type": "stream",
     "text": [
      "Masukan harga produk: 0\n",
      "tidak membeli baju\n"
     ]
    }
   ],
   "source": [
    "#misalkan terdapat toko baju lagi ada promo akhir bulan dengan diskon besar \n",
    "Harga_Produk=int(input(\"Masukan harga produk: \"))\n",
    "if 0<Harga_Produk<=50000:\n",
    "    harga_diskon=Harga_Produk*10/100\n",
    "    harga_total=Harga_Produk-harga_diskon\n",
    "    print(\"Baju yang dibeli murah dan mendapat diskon 10%\")\n",
    "    print(harga_total)\n",
    "elif 50000<Harga_Produk<=100000:\n",
    "    harga_diskon=Harga_Produk*20/100\n",
    "    harga_total=Harga_Produk-harga_diskon\n",
    "    print(\"Baju yang dibeli cukup mahal dan mendapat diskon 20%\")\n",
    "    print(harga_total)\n",
    "elif Harga_Produk>100000:\n",
    "    harga_diskon=Harga_Produk*40/100\n",
    "    harga_total=Harga_Produk-harga_diskon\n",
    "    print(\"Baju yang dibeli mahal dan mendapat diskon 40%\")\n",
    "    print(harga_total)\n",
    "else:\n",
    "    print(\"tidak membeli baju\")"
   ]
  }
 ],
 "metadata": {
  "kernelspec": {
   "display_name": "Python 3",
   "language": "python",
   "name": "python3"
  },
  "language_info": {
   "codemirror_mode": {
    "name": "ipython",
    "version": 3
   },
   "file_extension": ".py",
   "mimetype": "text/x-python",
   "name": "python",
   "nbconvert_exporter": "python",
   "pygments_lexer": "ipython3",
   "version": "3.7.3"
  }
 },
 "nbformat": 4,
 "nbformat_minor": 2
}
