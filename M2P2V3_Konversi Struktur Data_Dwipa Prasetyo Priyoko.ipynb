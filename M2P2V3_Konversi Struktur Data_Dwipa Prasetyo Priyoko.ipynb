{
 "cells": [
  {
   "cell_type": "markdown",
   "metadata": {},
   "source": [
    "Konversi Struktur Data"
   ]
  },
  {
   "cell_type": "raw",
   "metadata": {},
   "source": [
    "Fungsi untuk mengubah/konversi struktur data:\n",
    "a. list() : untuk mengubah menjadi list\n",
    "b. tuple() : untuk mengubah menjadi tuple,\n",
    "c. set() : untuk mengubah menjadi set\n",
    "d. dict() : untuk mengubah menjadi dictonary"
   ]
  },
  {
   "cell_type": "markdown",
   "metadata": {},
   "source": [
    "Mengkonversi tipe data list:"
   ]
  },
  {
   "cell_type": "code",
   "execution_count": 1,
   "metadata": {},
   "outputs": [],
   "source": [
    "#membuat 2 list\n",
    "L1 = [1, 2, 3, 4] \n",
    "L2 = [5, 6, 7, 8]"
   ]
  },
  {
   "cell_type": "code",
   "execution_count": 2,
   "metadata": {},
   "outputs": [
    {
     "name": "stdout",
     "output_type": "stream",
     "text": [
      "(1, 2, 3, 4)\n",
      "{8, 5, 6, 7}\n",
      "{1: 5, 2: 6, 3: 7, 4: 8}\n"
     ]
    }
   ],
   "source": [
    " # Mengkonversi struktur data list\n",
    "k_tuple = tuple(L1) \n",
    "k_set = set(L2) \n",
    "k_dict = dict(zip(L1, L2)) \n",
    "# Melihat data yang telah dikonversi \n",
    "print(k_tuple) \n",
    "print(k_set) \n",
    "print(k_dict)"
   ]
  },
  {
   "cell_type": "markdown",
   "metadata": {},
   "source": [
    "Mengkonversi tipe data tuple:"
   ]
  },
  {
   "cell_type": "code",
   "execution_count": 3,
   "metadata": {},
   "outputs": [
    {
     "name": "stdout",
     "output_type": "stream",
     "text": [
      "[1, 2, 3, 4]\n",
      "{8, 5, 6, 7}\n",
      "{1: 5, 2: 6, 3: 7, 4: 8}\n"
     ]
    }
   ],
   "source": [
    "# Membuat dua tuple\n",
    "T1 = (1, 2, 3, 4) \n",
    "T2 = (5, 6, 7, 8)\n",
    "# Mengkonversi struktur data tuple \n",
    "k_list = list(T1) \n",
    "k_set = set(T2) \n",
    "k_dic = dict(zip(T1, T2)) \n",
    "# Melihat data yang telah dikonversi \n",
    "print(k_list) \n",
    "print(k_set) \n",
    "print(k_dict)"
   ]
  },
  {
   "cell_type": "markdown",
   "metadata": {},
   "source": [
    "Mengkonversi tipe data set:"
   ]
  },
  {
   "cell_type": "code",
   "execution_count": 4,
   "metadata": {},
   "outputs": [],
   "source": [
    "# Membuat dua set\n",
    "S1 = {1, 2, 3, 4} \n",
    "S2 = {5, 6, 7, 8}"
   ]
  },
  {
   "cell_type": "code",
   "execution_count": 5,
   "metadata": {},
   "outputs": [
    {
     "name": "stdout",
     "output_type": "stream",
     "text": [
      "[1, 2, 3, 4]\n",
      "(8, 5, 6, 7)\n",
      "{1: 8, 2: 5, 3: 6, 4: 7}\n"
     ]
    }
   ],
   "source": [
    "#Mengkonversi struktur data set\n",
    "k_list=list(S1)\n",
    "k_tuple=tuple(S2)\n",
    "k_dict=dict(zip(S1,S2))\n",
    "\n",
    "#Melihat data yang telah dikonversi\n",
    "print(k_list)\n",
    "print(k_tuple)\n",
    "print(k_dict)"
   ]
  },
  {
   "cell_type": "markdown",
   "metadata": {},
   "source": [
    "Mengkonversi tipe data list"
   ]
  },
  {
   "cell_type": "code",
   "execution_count": 6,
   "metadata": {},
   "outputs": [],
   "source": [
    "#membuat dictionary\n",
    "D={\n",
    "    \"nama\":\"Andi\",\n",
    "    \"alamat\":\"Yogyakarta\",\n",
    "    \"umur\":20\n",
    "}"
   ]
  },
  {
   "cell_type": "code",
   "execution_count": 7,
   "metadata": {},
   "outputs": [
    {
     "name": "stdout",
     "output_type": "stream",
     "text": [
      "['nama', 'alamat', 'umur']\n",
      "('Andi', 'Yogyakarta', 20)\n",
      "{'umur', 'alamat', 'nama'}\n"
     ]
    }
   ],
   "source": [
    "#Mengkonversi struktur data dictionary dari key dan value nya\n",
    "k_list=list(D.keys())\n",
    "k_tuple=tuple(D.values())\n",
    "k_set=set(D.keys())\n",
    "\n",
    "#Melihat data yang telah dikonversi\n",
    "print(k_list)\n",
    "print(k_tuple)\n",
    "print(k_set)"
   ]
  },
  {
   "cell_type": "markdown",
   "metadata": {},
   "source": [
    "Latihan"
   ]
  },
  {
   "cell_type": "code",
   "execution_count": 8,
   "metadata": {},
   "outputs": [
    {
     "name": "stdout",
     "output_type": "stream",
     "text": [
      "('a', 'python', 3)\n",
      "{2, 4, 6, 8, 10}\n",
      "{'a': 2, 'python': 4, 3: 6}\n"
     ]
    }
   ],
   "source": [
    "#lakukan konversi struktur data yang kalian buat pada notebook-notebook sebelumnya \n",
    "#menjadi list,tuple, set, dan dictionary (masing-masing satu)\n",
    "\n",
    "# Mengkonversi struktur data list\n",
    "L2=[\"a\",\"python\",3]\n",
    "L3=[2,4,6,8,10]\n",
    "k_tuple = tuple(L2) \n",
    "k_set = set(L3) \n",
    "k_dict = dict(zip(L2, L3)) \n",
    "# Melihat data yang telah dikonversi \n",
    "print(k_tuple) \n",
    "print(k_set) \n",
    "print(k_dict)"
   ]
  },
  {
   "cell_type": "code",
   "execution_count": 9,
   "metadata": {},
   "outputs": [
    {
     "name": "stdout",
     "output_type": "stream",
     "text": [
      "[2, 'Sembilan', (5+7j), True]\n",
      "{False, 3.5, 'Tujuh'}\n",
      "{'a': 2, 'python': 4, 3: 6}\n"
     ]
    }
   ],
   "source": [
    "# Membuat dua tuple\n",
    "T4=(2,\"Sembilan\",5+7j,True)\n",
    "T5=(3.5,\"Tujuh\",False)\n",
    "# Mengkonversi struktur data tuple \n",
    "k_list = list(T4) \n",
    "k_set = set(T5) \n",
    "k_dic = dict(zip(T4, T5)) \n",
    "# Melihat data yang telah dikonversi \n",
    "print(k_list) \n",
    "print(k_set) \n",
    "print(k_dict)"
   ]
  },
  {
   "cell_type": "code",
   "execution_count": 10,
   "metadata": {},
   "outputs": [
    {
     "name": "stdout",
     "output_type": "stream",
     "text": [
      "[1, 29, 6, 9]\n",
      "(False, True, (2+3j), 'Tujuh', 29)\n",
      "{1: False, 29: True, 6: (2+3j), 9: 'Tujuh'}\n"
     ]
    }
   ],
   "source": [
    "# Membuat dua set\n",
    "S1 = {29, 6, 1, 9} \n",
    "S2 = {29,\"Tujuh\",True,False,\"Tujuh\",2+3j,False}\n",
    "\n",
    "#Mengkonversi struktur data set\n",
    "k_list=list(S1)\n",
    "k_tuple=tuple(S2)\n",
    "k_dict=dict(zip(S1,S2))\n",
    "\n",
    "#Melihat data yang telah dikonversi\n",
    "print(k_list)\n",
    "print(k_tuple)\n",
    "print(k_dict)"
   ]
  },
  {
   "cell_type": "code",
   "execution_count": 11,
   "metadata": {},
   "outputs": [
    {
     "name": "stdout",
     "output_type": "stream",
     "text": [
      "['nama', 'alamat', 'umur']\n",
      "('Andi', 'Yogyakarta', 20)\n",
      "{'umur', 'alamat', 'nama'}\n"
     ]
    }
   ],
   "source": [
    "#membuat dictionary\n",
    "D2={6:'value','key':29}\n",
    "#Mengkonversi struktur data dictionary dari key dan value nya\n",
    "k_list=list(D.keys())\n",
    "k_tuple=tuple(D.values())\n",
    "k_set=set(D.keys())\n",
    "\n",
    "#Melihat data yang telah dikonversi\n",
    "print(k_list)\n",
    "print(k_tuple)\n",
    "print(k_set)"
   ]
  }
 ],
 "metadata": {
  "kernelspec": {
   "display_name": "Python 3",
   "language": "python",
   "name": "python3"
  },
  "language_info": {
   "codemirror_mode": {
    "name": "ipython",
    "version": 3
   },
   "file_extension": ".py",
   "mimetype": "text/x-python",
   "name": "python",
   "nbconvert_exporter": "python",
   "pygments_lexer": "ipython3",
   "version": "3.7.3"
  }
 },
 "nbformat": 4,
 "nbformat_minor": 2
}
