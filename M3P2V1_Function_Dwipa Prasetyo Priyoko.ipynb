{
 "cells": [
  {
   "cell_type": "markdown",
   "metadata": {},
   "source": [
    "Function"
   ]
  },
  {
   "cell_type": "raw",
   "metadata": {},
   "source": [
    "Function(Fungsi) adalah sebuah blok statemen yang hanya akan dijalankan saat ia dipanggil. \n",
    "Fungsi len() untuk mengukur jumlah elemen dalam sebuah list dan fungsi print() untuk menampilkan pesan pada layar konsol merupakan contoh dari bentuk fungsi yang telah disediakan oleh bahasa pemrograman Python atau dengan kata lain built-in functions. \n",
    "Selain fungsi yang telah disediakan oleh Python, Python mengizinkan untuk mendeklarasikan fungsi dalam kode yang dituliskan yang dikenal dengan user defined function."
   ]
  },
  {
   "cell_type": "raw",
   "metadata": {},
   "source": [
    "def nama_fungsi(argument):\n",
    "    statement_1\n",
    "    ...\n",
    "    statement_n \n",
    "    return returned_value"
   ]
  },
  {
   "cell_type": "raw",
   "metadata": {},
   "source": [
    "  • nama_fungsi adalah nama untuk fungsi yang Anda definisikan, memiliki aturan seperti penamaan variabel \n",
    "  • argument adalah variabel masukan ke fungsi, bisa tanpa variabel, satu variabel atau lebih \n",
    "  • statement_1 ... statement_n adalah algoritma yang telah Anda transfer dalam bahasa Python yang merupakan inti dari    \n",
    "    fungsi yang Anda definisikan. Seluruh statement adalah menjorok (indent) ke dalam seperti yang pernah Anda pelajari pada \n",
    "    conditioning dan looping \n",
    "  • return_value adalah variabel output dari fungsi Anda, bisa tanpa variabel, satu variabel atau lebih."
   ]
  },
  {
   "cell_type": "markdown",
   "metadata": {},
   "source": [
    "Argumen dan Parameter"
   ]
  },
  {
   "cell_type": "raw",
   "metadata": {},
   "source": [
    "• Parameter adalah variabel yang digunakan dalam deklarasi fungsi \n",
    "• Argumen adalah nilai yang diberikan saat pemanggilan fungsi."
   ]
  },
  {
   "cell_type": "code",
   "execution_count": 1,
   "metadata": {},
   "outputs": [
    {
     "name": "stdout",
     "output_type": "stream",
     "text": [
      "Budi\n"
     ]
    }
   ],
   "source": [
    "def print_nama(nama):   # 'nama' adalah parameter\n",
    "    print(nama)\n",
    "\n",
    "print_nama('Budi') # 'Budi' adalah argumen"
   ]
  },
  {
   "cell_type": "markdown",
   "metadata": {},
   "source": [
    "Argumen posisi dan kata kunci"
   ]
  },
  {
   "cell_type": "raw",
   "metadata": {},
   "source": [
    "Kita bisa menyatakan argumen sebagai argumen posisi atau kata kunci. Beberapa manfaat argumen kata kunci dapat berupa:\n",
    "    • Kita dapat menyebut argumen dengan nama mereka untuk memperjelas apa yang mereka wakili \n",
    "    • Kita dapat mengatur ulang argumen dengan cara yang membuatnya paling mudah dibaca"
   ]
  },
  {
   "cell_type": "code",
   "execution_count": 2,
   "metadata": {},
   "outputs": [
    {
     "name": "stdout",
     "output_type": "stream",
     "text": [
      "1 2 3\n",
      "1 2 3\n",
      "1 2 3\n",
      "1 2 3\n"
     ]
    }
   ],
   "source": [
    "def angka(a, b, c):\n",
    "    print(a, b, c)\n",
    "# argumen posisi \n",
    "# argumen berdasarkan posisinya \n",
    "angka(1, 2, 3)\n",
    "# argumen berdasarkan kata kuncinya \n",
    "angka(a=1, b=2, c=3) \n",
    "angka(c=3, b=2, a=1) \n",
    "# Catatan: jika sudah diberi kunci maka urutan tidak menjadi penting\n",
    "\n",
    "# campuran antara argumen posisi dan argumen kata kunci \n",
    "angka(1, b=2, c=3)\n",
    "\n",
    "# Ini tidak diijinkan: \n",
    "# foo(1, b=2, 3)   # argumen posisional setelah argumen kunci \n",
    "# foo(1, b=2, a=3) # terdapat dua nilai untuk argumen kunci 'a'"
   ]
  },
  {
   "cell_type": "markdown",
   "metadata": {},
   "source": [
    "Argumen Default"
   ]
  },
  {
   "cell_type": "raw",
   "metadata": {},
   "source": [
    "Fungsi dapat memiliki argumen default dengan nilai yang telah ditentukan sebelumnya. Argumen ini dapat ditinggalkan dan nilai default kemudian diteruskan ke fungsi, atau argumen dapat dirubah dengan nilai yang berbeda. Perhatikan bahwa argumen default harus ditentukan sebagai parameter terakhir dalam suatu fungsi"
   ]
  },
  {
   "cell_type": "code",
   "execution_count": 3,
   "metadata": {},
   "outputs": [
    {
     "name": "stdout",
     "output_type": "stream",
     "text": [
      "1 2 3 4\n",
      "1 2 3 100\n"
     ]
    }
   ],
   "source": [
    "# Argumen default \n",
    "def angka2(a, b, c, d=4):\n",
    "    print(a, b, c, d)\n",
    "angka2(1, 2, 3, 4) \n",
    "angka2(1, b=2, c=3, d=100)\n",
    "# Argumen default harus diletakkan terakhir"
   ]
  },
  {
   "cell_type": "markdown",
   "metadata": {},
   "source": [
    "Praktik Membuat Fungsi"
   ]
  },
  {
   "cell_type": "code",
   "execution_count": 4,
   "metadata": {},
   "outputs": [
    {
     "data": {
      "text/plain": [
       "2"
      ]
     },
     "execution_count": 4,
     "metadata": {},
     "output_type": "execute_result"
    }
   ],
   "source": [
    "x=1\n",
    "y=2\n",
    "x*y"
   ]
  },
  {
   "cell_type": "code",
   "execution_count": 5,
   "metadata": {},
   "outputs": [
    {
     "data": {
      "text/plain": [
       "3"
      ]
     },
     "execution_count": 5,
     "metadata": {},
     "output_type": "execute_result"
    }
   ],
   "source": [
    "def penjumlahan(x, y): #input \n",
    "    a=x+y              #proses \n",
    "    return a           #output\n",
    "penjumlahan(1, 2)      #menggunakan fungsi\n"
   ]
  },
  {
   "cell_type": "markdown",
   "metadata": {},
   "source": [
    "Penjumlahan yang memungkinkan untuk tiga bilangan"
   ]
  },
  {
   "cell_type": "code",
   "execution_count": 6,
   "metadata": {},
   "outputs": [
    {
     "name": "stdout",
     "output_type": "stream",
     "text": [
      "3\n",
      "6\n"
     ]
    }
   ],
   "source": [
    "def penjumlahan(x, y, z=None):\n",
    "    if (z==None):\n",
    "        return x+y \n",
    "    else:\n",
    "        return x+y+z\n",
    "print(penjumlahan(1, 2)) \n",
    "print(penjumlahan (1, 2, 3))"
   ]
  },
  {
   "cell_type": "markdown",
   "metadata": {},
   "source": [
    "menyimpan hasil fungsi dalam variabel"
   ]
  },
  {
   "cell_type": "code",
   "execution_count": 7,
   "metadata": {},
   "outputs": [
    {
     "data": {
      "text/plain": [
       "3"
      ]
     },
     "execution_count": 7,
     "metadata": {},
     "output_type": "execute_result"
    }
   ],
   "source": [
    "def penjumlahan(x,y):\n",
    "    return x+y\n",
    "\n",
    "a = penjumlahan \n",
    "a(1,2)"
   ]
  },
  {
   "cell_type": "markdown",
   "metadata": {},
   "source": [
    "Latihan 1\n",
    "\n",
    "Buatlah Funtion pythagoras dengan input argumennya panjag tinggi dan alas segitiga untuk menghasilkan output nilai panjang sisi miring,"
   ]
  },
  {
   "cell_type": "code",
   "execution_count": 8,
   "metadata": {},
   "outputs": [
    {
     "name": "stdout",
     "output_type": "stream",
     "text": [
      "50.0\n"
     ]
    }
   ],
   "source": [
    "#Mencari nilai sisi miring segitiga siku siku\n",
    "def sisi_miring(a,t):\n",
    "    sisi_miring=((a**2)+(t**2))**(1/2)\n",
    "    print(sisi_miring)\n",
    "    return\n",
    "A=sisi_miring(30,40)\n",
    "A"
   ]
  },
  {
   "cell_type": "markdown",
   "metadata": {},
   "source": [
    "Latihan 2\n",
    "\n",
    "\n",
    "Buatlah Function luas permukaan balok dengan input argumen panjang,lebar,dan tinggi untuk menghasilkan output nilai luas permukaan balok tersebut"
   ]
  },
  {
   "cell_type": "code",
   "execution_count": 9,
   "metadata": {},
   "outputs": [
    {
     "name": "stdout",
     "output_type": "stream",
     "text": [
      "4840\n"
     ]
    }
   ],
   "source": [
    "def LuasPermukaanBalok(p,l,t):\n",
    "    \"Menghitung Luas Permukaan Balok\"\n",
    "    L=2*(p*l)+2*(p*t)+2*(l*t)\n",
    "    print(L)\n",
    "    return\n",
    "B=LuasPermukaanBalok(200,2,10)"
   ]
  }
 ],
 "metadata": {
  "kernelspec": {
   "display_name": "Python 3",
   "language": "python",
   "name": "python3"
  },
  "language_info": {
   "codemirror_mode": {
    "name": "ipython",
    "version": 3
   },
   "file_extension": ".py",
   "mimetype": "text/x-python",
   "name": "python",
   "nbconvert_exporter": "python",
   "pygments_lexer": "ipython3",
   "version": "3.7.3"
  }
 },
 "nbformat": 4,
 "nbformat_minor": 2
}
