{
 "cells": [
  {
   "cell_type": "markdown",
   "metadata": {},
   "source": [
    "Variabel & Tipe Data"
   ]
  },
  {
   "cell_type": "markdown",
   "metadata": {},
   "source": [
    "Variabel"
   ]
  },
  {
   "cell_type": "raw",
   "metadata": {},
   "source": [
    "Variabel merupakan Lokasi penyimpanan yang dapat digunakan untuk menampung sebuah data atau informasi. Syarat-syarat penamaan variabel:\n",
    "    1. karakter-karakter yang digunakan untuk penamaan variabel adalah alphabet, angka, dan underscore\n",
    "    2. Karakter pertama variabel harus berupa huruf atau garis bawah/underscore, dan tidak berupa angka\n",
    "    3. Nama sebuah variabel tidak bisa menggunakan keyword atau reserved words dari bahasa python seperti for,if, dan \n",
    "       lainnya\n",
    "    4. Karakter pada nama variabel bersifat sensitif(case-sensitif)"
   ]
  },
  {
   "cell_type": "code",
   "execution_count": 1,
   "metadata": {},
   "outputs": [
    {
     "name": "stdout",
     "output_type": "stream",
     "text": [
      "ini adalah variabel\n",
      "4\n",
      "2.5\n",
      "True\n",
      "(4+1j)\n"
     ]
    }
   ],
   "source": [
    "#membuat variabel\n",
    "kalimat ='ini adalah variabel'\n",
    "bilangan1 = 4\n",
    "bilangan2 = 2.5\n",
    "bilangan3 = True\n",
    "bilangan4 = 1j+4\n",
    "\n",
    "#menampilkan variabel\n",
    "print(kalimat)\n",
    "print(bilangan1)\n",
    "print(bilangan2)\n",
    "print(bilangan3)\n",
    "print(bilangan4)"
   ]
  },
  {
   "cell_type": "code",
   "execution_count": 2,
   "metadata": {},
   "outputs": [
    {
     "name": "stdout",
     "output_type": "stream",
     "text": [
      "1.9\n",
      "False\n",
      "5\n",
      "(5+4j)\n"
     ]
    }
   ],
   "source": [
    "# latihan 1\n",
    "# buatlah 5 variabel kalian sendiri dengan 5 macam tipe data\n",
    "# lalu tampilkan variabel menggunakan fungsi print\n",
    "\n",
    "kalimat = 'ini adalah variabel'\n",
    "a=1.9\n",
    "b=False\n",
    "c=5\n",
    "d=5+4j\n",
    "\n",
    "print(a)\n",
    "print(b)\n",
    "print(c)\n",
    "print(d)"
   ]
  },
  {
   "cell_type": "raw",
   "metadata": {},
   "source": [
    "Tipe Data"
   ]
  },
  {
   "cell_type": "raw",
   "metadata": {},
   "source": [
    "5 Tipe Data yaitu:\n",
    "    1. Integer atau bilangan bulat\n",
    "    2. Float atau bilangan desimal\n",
    "    3. String atau kalimat\n",
    "    4. Boolean yang terdiri dari True dan False\n",
    "    5. Complex yang merupakan bilangan kompleks"
   ]
  },
  {
   "cell_type": "code",
   "execution_count": 3,
   "metadata": {},
   "outputs": [
    {
     "name": "stdout",
     "output_type": "stream",
     "text": [
      "<class 'str'>\n",
      "<class 'int'>\n",
      "<class 'float'>\n",
      "<class 'bool'>\n",
      "<class 'complex'>\n"
     ]
    }
   ],
   "source": [
    "#menampilkan tipe data\n",
    "print(type(kalimat))\n",
    "print(type(bilangan1))\n",
    "print(type(bilangan2))\n",
    "print(type(bilangan3))\n",
    "print(type(bilangan4))"
   ]
  },
  {
   "cell_type": "code",
   "execution_count": 4,
   "metadata": {},
   "outputs": [
    {
     "name": "stdout",
     "output_type": "stream",
     "text": [
      "<class 'str'>\n",
      "<class 'float'>\n",
      "<class 'bool'>\n",
      "<class 'int'>\n",
      "<class 'complex'>\n"
     ]
    }
   ],
   "source": [
    "# Latihan 2\n",
    "# Cek tipe data variabel yang telah dibuat pada latihan 1\n",
    "\n",
    "print(type(kalimat))\n",
    "print(type(a))\n",
    "print(type(b))\n",
    "print(type(c))\n",
    "print(type(d))"
   ]
  },
  {
   "cell_type": "markdown",
   "metadata": {},
   "source": [
    "Konversi Tipe Data"
   ]
  },
  {
   "cell_type": "raw",
   "metadata": {},
   "source": [
    "Syntax konversi tipe data\n",
    "    1. integer=int()\n",
    "    2. Float=float()\n",
    "    3. String=str()\n",
    "    4. Boolean=bool()\n",
    "    5. Complex-Complex()"
   ]
  },
  {
   "cell_type": "code",
   "execution_count": 5,
   "metadata": {},
   "outputs": [
    {
     "name": "stdout",
     "output_type": "stream",
     "text": [
      "2\n",
      "1\n"
     ]
    }
   ],
   "source": [
    "#konversi tipe data integer\n",
    "print(int(bilangan2))\n",
    "print(int(bilangan3))"
   ]
  },
  {
   "cell_type": "code",
   "execution_count": 6,
   "metadata": {},
   "outputs": [
    {
     "name": "stdout",
     "output_type": "stream",
     "text": [
      "4.0\n",
      "1.0\n"
     ]
    }
   ],
   "source": [
    "#konversi tipe data float\n",
    "print(float(bilangan1))\n",
    "print(float(bilangan3))"
   ]
  },
  {
   "cell_type": "code",
   "execution_count": 7,
   "metadata": {},
   "outputs": [
    {
     "name": "stdout",
     "output_type": "stream",
     "text": [
      "4\n",
      "2.5\n",
      "True\n"
     ]
    }
   ],
   "source": [
    "#konversi tipe data string\n",
    "print(str(bilangan1))\n",
    "print(str(bilangan2))\n",
    "print(str(bilangan3))"
   ]
  },
  {
   "cell_type": "code",
   "execution_count": 8,
   "metadata": {},
   "outputs": [
    {
     "name": "stdout",
     "output_type": "stream",
     "text": [
      "True\n",
      "True\n"
     ]
    }
   ],
   "source": [
    "#konversi tipe data bool\n",
    "print(bool(bilangan1))\n",
    "print(bool(bilangan2))"
   ]
  },
  {
   "cell_type": "code",
   "execution_count": 9,
   "metadata": {},
   "outputs": [
    {
     "name": "stdout",
     "output_type": "stream",
     "text": [
      "(4+0j)\n",
      "(2.5+0j)\n",
      "(1+0j)\n"
     ]
    }
   ],
   "source": [
    "#konversi tipe data complex\n",
    "print(complex(bilangan1))\n",
    "print(complex(bilangan2))\n",
    "print(complex(bilangan3))"
   ]
  },
  {
   "cell_type": "code",
   "execution_count": 10,
   "metadata": {},
   "outputs": [
    {
     "name": "stdout",
     "output_type": "stream",
     "text": [
      "1\n",
      "0\n",
      "--------------------\n",
      "0.0\n",
      "5.0\n",
      "--------------------\n",
      "1.9\n",
      "False\n",
      "5\n",
      "--------------------\n",
      "True\n",
      "True\n",
      "--------------------\n",
      "(1.9+0j)\n",
      "0j\n",
      "(5+0j)\n"
     ]
    }
   ],
   "source": [
    "# Latihan 3\n",
    "# konversi tipe data variabel yang kalian buat\n",
    "# menjadi berbagai macam tipe data\n",
    "\n",
    "#konversi tipe data integer\n",
    "print(int(a))\n",
    "print(int(b))\n",
    "print('-'*20)\n",
    "\n",
    "#konversi tipe data float\n",
    "print(float(b))\n",
    "print(float(c))\n",
    "print('-'*20)\n",
    "\n",
    "#konversi tipe data string\n",
    "print(str(a))\n",
    "print(str(b))\n",
    "print(str(c))\n",
    "print('-'*20)\n",
    "\n",
    "#konversi tipe data bool\n",
    "print(bool(a))\n",
    "print(bool(c))\n",
    "print('-'*20)\n",
    "\n",
    "#konversi tipe data complex\n",
    "print(complex(a))\n",
    "print(complex(b))\n",
    "print(complex(c))"
   ]
  }
 ],
 "metadata": {
  "kernelspec": {
   "display_name": "Python 3",
   "language": "python",
   "name": "python3"
  },
  "language_info": {
   "codemirror_mode": {
    "name": "ipython",
    "version": 3
   },
   "file_extension": ".py",
   "mimetype": "text/x-python",
   "name": "python",
   "nbconvert_exporter": "python",
   "pygments_lexer": "ipython3",
   "version": "3.7.3"
  }
 },
 "nbformat": 4,
 "nbformat_minor": 2
}
