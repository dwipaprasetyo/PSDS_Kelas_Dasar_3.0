{
 "cells": [
  {
   "cell_type": "raw",
   "metadata": {},
   "source": [
    "List\n",
    "\n",
    "List adalah jenis kumpulan data terurut(ordered sequence), dan merupakan salah satu variabel yang sering digunakan pada python. Serupa,namun tak sama dengan array pada bahasa pemrograman yang lainnya. Bedanya elemen list pada Python tidak harus memiliki tipe data yang sama. Mendeklarasikan list cukup mudah dengan kurung sikudan elemen yang dipisahkan dengan koma. Setiap data didalamnya dapat diakses dengan indeks yang dimulai dari 0."
   ]
  },
  {
   "cell_type": "code",
   "execution_count": 1,
   "metadata": {},
   "outputs": [
    {
     "name": "stdout",
     "output_type": "stream",
     "text": [
      "<class 'list'>\n"
     ]
    }
   ],
   "source": [
    "#contoh list\n",
    "L1=[1,4,2,13]\n",
    "\n",
    "print(type(L1))"
   ]
  },
  {
   "cell_type": "code",
   "execution_count": 2,
   "metadata": {},
   "outputs": [
    {
     "data": {
      "text/plain": [
       "['a', 'python', 3]"
      ]
     },
     "execution_count": 2,
     "metadata": {},
     "output_type": "execute_result"
    }
   ],
   "source": [
    "L2=[\"a\",\"python\",3]\n",
    "L2"
   ]
  },
  {
   "cell_type": "code",
   "execution_count": 3,
   "metadata": {},
   "outputs": [
    {
     "name": "stdout",
     "output_type": "stream",
     "text": [
      "[1, 4, 2, 13]\n",
      "['a', 'python', 3]\n"
     ]
    }
   ],
   "source": [
    "print(L1)\n",
    "print(L2)"
   ]
  },
  {
   "cell_type": "code",
   "execution_count": 4,
   "metadata": {},
   "outputs": [
    {
     "name": "stdout",
     "output_type": "stream",
     "text": [
      "<class 'list'>\n"
     ]
    }
   ],
   "source": [
    "# Latihan 1\n",
    "# Buatlah list kalian sendiri\n",
    "L3=[2,4,6,8,10]\n",
    "print(type(L3))"
   ]
  },
  {
   "cell_type": "code",
   "execution_count": 5,
   "metadata": {},
   "outputs": [
    {
     "name": "stdout",
     "output_type": "stream",
     "text": [
      "[2, 4, 6, 8, 10]\n",
      "['d', 'math', 'PSDS', 4]\n"
     ]
    }
   ],
   "source": [
    "L4=[\"d\",\"math\",\"PSDS\",4]\n",
    "L4\n",
    "\n",
    "print(L3)\n",
    "print(L4)"
   ]
  },
  {
   "cell_type": "code",
   "execution_count": 6,
   "metadata": {},
   "outputs": [
    {
     "name": "stdout",
     "output_type": "stream",
     "text": [
      "Memanggil List L1 dengan indeks urutan: [1, 4, 2]\n",
      "List L1 setelah diganti elemennya [1, 2, 2, 13]\n",
      "Slicing List L1 (2+3j)\n",
      "Duplikasi pada list L1: [1, 'dua', True, (2+3j), (2+3j)]\n"
     ]
    }
   ],
   "source": [
    "#sifat-sifat list\n",
    "\n",
    "#Terurut/Ordered\n",
    "print(\"Memanggil List L1 dengan indeks urutan:\",L1[0:3])\n",
    "\n",
    "#Bisa Diganti/Mutable\n",
    "L1[1]=2\n",
    "print(\"List L1 setelah diganti elemennya\",L1)\n",
    "\n",
    "L1=[1,\"dua\",True,2+3j]\n",
    "\n",
    "#Dapat Diindeks/Slicing\n",
    "print(\"Slicing List L1\",L1[3])\n",
    "\n",
    "#Dapat Diijinkan duplikasi\n",
    "L1 = [1,\"dua\",True,2+3j,2+3j]\n",
    "print(\"Duplikasi pada list L1:\",L1)"
   ]
  },
  {
   "cell_type": "code",
   "execution_count": 7,
   "metadata": {},
   "outputs": [
    {
     "name": "stdout",
     "output_type": "stream",
     "text": [
      "List L3 setelah diganti elemennya [3, 4, 6, 8, 10]\n"
     ]
    }
   ],
   "source": [
    "# Latihan 2\n",
    "# Ganti elemen yang ada pada list yang kalian buat\n",
    "\n",
    "L3=[2,4,6,8,10]\n",
    "L3[0]=3\n",
    "print(\"List L3 setelah diganti elemennya\",L3)"
   ]
  }
 ],
 "metadata": {
  "kernelspec": {
   "display_name": "Python 3",
   "language": "python",
   "name": "python3"
  },
  "language_info": {
   "codemirror_mode": {
    "name": "ipython",
    "version": 3
   },
   "file_extension": ".py",
   "mimetype": "text/x-python",
   "name": "python",
   "nbconvert_exporter": "python",
   "pygments_lexer": "ipython3",
   "version": "3.7.3"
  }
 },
 "nbformat": 4,
 "nbformat_minor": 2
}
