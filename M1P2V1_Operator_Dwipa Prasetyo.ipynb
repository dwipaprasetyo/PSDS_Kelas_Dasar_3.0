{
 "cells": [
  {
   "cell_type": "markdown",
   "metadata": {},
   "source": [
    "Operator"
   ]
  },
  {
   "cell_type": "markdown",
   "metadata": {},
   "source": [
    "Operator = simbol-simbol yang dapat digunakan untuk mengubah nilai dari satu variabel dengan melibatkan satu atau lebih variabel dan literal.\n",
    "tipe-tipe Operator:\n",
    "    1. Operator Aritmatika\n",
    "    2. Operator Assignment\n",
    "    3. Operator Pembanding\n",
    "    4. Operator Logika\n",
    "    5. Operator Membership"
   ]
  },
  {
   "cell_type": "markdown",
   "metadata": {},
   "source": [
    "Operator Aritmatika\n",
    "\n",
    "Operator Aritmatika digunakan untuk melakukan operasi matematika yang umum.\n",
    "macam-macam operator aritmatika:"
   ]
  },
  {
   "cell_type": "raw",
   "metadata": {},
   "source": [
    "+  : Penjumlahan\n",
    "-  : Pengurangan\n",
    "*  : Perkalian\n",
    "/  : Pembagian\n",
    "%  : Modulus\n",
    "** : Perpangkatan\n",
    "// : Pembagian dengan hasil pembulatan flooring"
   ]
  },
  {
   "cell_type": "code",
   "execution_count": 1,
   "metadata": {},
   "outputs": [
    {
     "name": "stdout",
     "output_type": "stream",
     "text": [
      "penjumlahan\n",
      "4\n",
      "--------------------\n",
      "pengurangan\n",
      "-1\n",
      "--------------------\n",
      "perkalian\n",
      "6\n",
      "--------------------\n",
      "pembagian\n",
      "0.6666666666666666\n",
      "--------------------\n",
      "modulus\n",
      "2\n",
      "--------------------\n",
      "perpangkatan\n",
      "8\n",
      "--------------------\n",
      "pembagian pembulatan floring\n",
      "1\n"
     ]
    }
   ],
   "source": [
    "#contoh penggunaan operator aritmatika\n",
    "\n",
    "#penjumlahan \n",
    "print('penjumlahan')\n",
    "print(2+2)\n",
    "#pengurangan\n",
    "print('-'*20)\n",
    "print('pengurangan')\n",
    "print(2-3)\n",
    "#perkalian\n",
    "print('-'*20)\n",
    "print('perkalian')\n",
    "print(2*3)\n",
    "#pembagian\n",
    "print('-'*20)\n",
    "print('pembagian')\n",
    "print(2/3)\n",
    "#modulus\n",
    "print('-'*20)\n",
    "print('modulus')\n",
    "print(2%3)\n",
    "#perpangkatan\n",
    "print('-'*20)\n",
    "print('perpangkatan')\n",
    "print(2**3)\n",
    "#pembagian pembulatan floring\n",
    "print('-'*20)\n",
    "print('pembagian pembulatan floring')\n",
    "print(3//2)"
   ]
  },
  {
   "cell_type": "raw",
   "metadata": {},
   "source": [
    "Latihan Operator 1"
   ]
  },
  {
   "cell_type": "code",
   "execution_count": 2,
   "metadata": {},
   "outputs": [
    {
     "name": "stdout",
     "output_type": "stream",
     "text": [
      "penjumlahan\n",
      "10\n",
      "--------------------\n",
      "pengurangan\n",
      "0\n",
      "--------------------\n",
      "perkalian\n",
      "25\n",
      "--------------------\n",
      "pembagian\n",
      "1.0\n",
      "--------------------\n",
      "modulus\n",
      "5\n",
      "--------------------\n",
      "perpangkatan\n",
      "32\n",
      "--------------------\n",
      "pembagian pembulatan floring\n",
      "1\n"
     ]
    }
   ],
   "source": [
    "# Buatlah program penerapan operator aritmatika dengan \n",
    "# nilai-nilai yang berbeda dari contoh diatas\n",
    "\n",
    "\n",
    "#penjumlahan \n",
    "print('penjumlahan')\n",
    "print(5+5)\n",
    "#pengurangan\n",
    "print('-'*20)\n",
    "print('pengurangan')\n",
    "print(5-5)\n",
    "#perkalian\n",
    "print('-'*20)\n",
    "print('perkalian')\n",
    "print(5*5)\n",
    "#pembagian\n",
    "print('-'*20)\n",
    "print('pembagian')\n",
    "print(5/5)\n",
    "#modulus\n",
    "print('-'*20)\n",
    "print('modulus')\n",
    "print(5%8)\n",
    "#perpangkatan\n",
    "print('-'*20)\n",
    "print('perpangkatan')\n",
    "print(2**5)\n",
    "#pembagian pembulatan floring\n",
    "print('-'*20)\n",
    "print('pembagian pembulatan floring')\n",
    "print(8//5)"
   ]
  },
  {
   "cell_type": "markdown",
   "metadata": {},
   "source": [
    "Operator Assigment"
   ]
  },
  {
   "cell_type": "markdown",
   "metadata": {},
   "source": [
    "Operator Assigment digunakan untuk menyimpan nilai menjadi suatu variabel"
   ]
  },
  {
   "cell_type": "raw",
   "metadata": {},
   "source": [
    "=  : Contohnya x=5    -> x=5\n",
    "+= : Contohnya x=x+5  -> x+=5\n",
    "-= : Contohnya x=x-5  -> x-=5\n",
    "*= : Contohnya x=x*5  -> x*=5\n",
    "/= : Contohnya x=x/5  -> x/=5\n",
    "%= : Contohnya x=x%5  -> x%=5\n",
    "//=: Contohnya x=x//5 -> x//=5\n",
    "**=: Contohnya x=x**5 -> x**=5"
   ]
  },
  {
   "cell_type": "code",
   "execution_count": 3,
   "metadata": {},
   "outputs": [
    {
     "name": "stdout",
     "output_type": "stream",
     "text": [
      "penjumlahan\n",
      "10\n",
      "8\n",
      "--------------------\n",
      "pengurangan\n",
      "0\n",
      "2\n",
      "--------------------\n",
      "perkalian\n",
      "25\n",
      "15\n",
      "--------------------\n",
      "pembagian\n",
      "1.0\n",
      "1.6666666666666667\n",
      "--------------------\n",
      "modulus\n",
      "0\n",
      "2\n",
      "--------------------\n",
      "pembagian floring\n",
      "1\n",
      "1\n",
      "--------------------\n",
      "perpangkatan\n",
      "3125\n",
      "125\n",
      "--------------------\n"
     ]
    }
   ],
   "source": [
    "# contoh penggunaan operator assigment\n",
    "\n",
    "#penjumlahan \n",
    "print('penjumlahan')\n",
    "x=5\n",
    "x=x+5\n",
    "print(x)\n",
    "x=5\n",
    "x+=3\n",
    "print(x)\n",
    "print('-'*20)\n",
    "\n",
    "#pengurangan\n",
    "print('pengurangan')\n",
    "x=5\n",
    "x=x-5\n",
    "print(x)\n",
    "x=5\n",
    "x-=3\n",
    "print(x)\n",
    "print('-'*20)\n",
    "\n",
    "#perkalian\n",
    "print('perkalian')\n",
    "x=5\n",
    "x=x*5\n",
    "print(x)\n",
    "x=5\n",
    "x*=3\n",
    "print(x)\n",
    "print('-'*20)\n",
    "\n",
    "#pembagian\n",
    "print('pembagian')\n",
    "x=5\n",
    "x=x/5\n",
    "print(x)\n",
    "x=5\n",
    "x/=3\n",
    "print(x)\n",
    "print('-'*20)\n",
    "\n",
    "#modulus\n",
    "print('modulus')\n",
    "x=5\n",
    "x=x%5\n",
    "print(x)\n",
    "x=5\n",
    "x%=3\n",
    "print(x)\n",
    "print('-'*20)\n",
    "\n",
    "#pembagian floring\n",
    "print('pembagian floring')\n",
    "x=5\n",
    "x=x//5\n",
    "print(x)\n",
    "x=5\n",
    "x//=3\n",
    "print(x)\n",
    "print('-'*20)\n",
    "\n",
    "#perpangkatan\n",
    "print('perpangkatan')\n",
    "x=5\n",
    "x=x**5\n",
    "print(x)\n",
    "x=5\n",
    "x**=3\n",
    "print(x)\n",
    "print('-'*20)"
   ]
  },
  {
   "cell_type": "code",
   "execution_count": 4,
   "metadata": {},
   "outputs": [
    {
     "name": "stdout",
     "output_type": "stream",
     "text": [
      "penjumlahan\n",
      "14\n",
      "10\n",
      "--------------------\n",
      "pengurangan\n",
      "0\n",
      "4\n",
      "--------------------\n",
      "perkalian\n",
      "49\n",
      "21\n",
      "--------------------\n",
      "pembagian\n",
      "1.0\n",
      "2.3333333333333335\n",
      "--------------------\n",
      "modulus\n",
      "0\n",
      "1\n",
      "--------------------\n",
      "pembagian floring\n",
      "1\n",
      "2\n",
      "--------------------\n",
      "perpangkatan\n",
      "823543\n",
      "343\n",
      "--------------------\n"
     ]
    }
   ],
   "source": [
    "# Latihan Operator 2\n",
    "# Buatlah program penerapan operator assigment dengan \n",
    "# nilai-nilai yang berbeda dari contoh diatas\n",
    "\n",
    "#penjumlahan \n",
    "print('penjumlahan')\n",
    "x=7\n",
    "x=x+7\n",
    "print(x)\n",
    "x=7\n",
    "x+=3\n",
    "print(x)\n",
    "print('-'*20)\n",
    "\n",
    "#pengurangan\n",
    "print('pengurangan')\n",
    "x=7\n",
    "x=x-7\n",
    "print(x)\n",
    "x=7\n",
    "x-=3\n",
    "print(x)\n",
    "print('-'*20)\n",
    "\n",
    "#perkalian\n",
    "print('perkalian')\n",
    "x=7\n",
    "x=x*7\n",
    "print(x)\n",
    "x=7\n",
    "x*=3\n",
    "print(x)\n",
    "print('-'*20)\n",
    "\n",
    "#pembagian\n",
    "print('pembagian')\n",
    "x=7\n",
    "x=x/7\n",
    "print(x)\n",
    "x=7\n",
    "x/=3\n",
    "print(x)\n",
    "print('-'*20)\n",
    "\n",
    "#modulus\n",
    "print('modulus')\n",
    "x=7\n",
    "x=x%7\n",
    "print(x)\n",
    "x=7\n",
    "x%=3\n",
    "print(x)\n",
    "print('-'*20)\n",
    "\n",
    "#pembagian floring\n",
    "print('pembagian floring')\n",
    "x=7\n",
    "x=x//7\n",
    "print(x)\n",
    "x=7\n",
    "x//=3\n",
    "print(x)\n",
    "print('-'*20)\n",
    "\n",
    "#perpangkatan\n",
    "print('perpangkatan')\n",
    "x=7\n",
    "x=x**7\n",
    "print(x)\n",
    "x=7\n",
    "x**=3\n",
    "print(x)\n",
    "print('-'*20)"
   ]
  },
  {
   "cell_type": "markdown",
   "metadata": {},
   "source": [
    "Operator Pembanding"
   ]
  },
  {
   "cell_type": "markdown",
   "metadata": {},
   "source": [
    "Operator pembanding digunakan untuk membandingkan 2 nilai atau variabel.\n",
    "macam - macam operator pembanding:"
   ]
  },
  {
   "cell_type": "raw",
   "metadata": {},
   "source": [
    "== -> samadengan\n",
    "!= -> tidak samadengan\n",
    ">  -> lebih dari\n",
    "<  -> kurang dari\n",
    ">= -> lebih dari dan samadengan\n",
    "<= -> kurang dari dan samadengan"
   ]
  },
  {
   "cell_type": "code",
   "execution_count": 5,
   "metadata": {},
   "outputs": [
    {
     "name": "stdout",
     "output_type": "stream",
     "text": [
      "True\n",
      "False\n",
      "False\n",
      "False\n",
      "True\n",
      "True\n"
     ]
    }
   ],
   "source": [
    "#contoh penggunaan operator pembanding\n",
    "\n",
    "print(2==2)\n",
    "print(2!=2)\n",
    "print(2>2)\n",
    "print(2<2)\n",
    "print(2>=2)\n",
    "print(2<=2)"
   ]
  },
  {
   "cell_type": "code",
   "execution_count": 6,
   "metadata": {},
   "outputs": [
    {
     "name": "stdout",
     "output_type": "stream",
     "text": [
      "False\n",
      "True\n",
      "False\n",
      "False\n",
      "True\n",
      "False\n"
     ]
    }
   ],
   "source": [
    "# Latihan Operator 3\n",
    "# Buatlah program penerapan operator pembanding dengan \n",
    "# nilai-nilai yang berbeda dari contoh diatas\n",
    "\n",
    "print(7==9)\n",
    "print(6!=8)\n",
    "print(5>7)\n",
    "print(7<7)\n",
    "print(6>=4)\n",
    "print(6<=4)"
   ]
  },
  {
   "cell_type": "markdown",
   "metadata": {},
   "source": [
    "Operator Logika"
   ]
  },
  {
   "cell_type": "markdown",
   "metadata": {},
   "source": [
    "Operator Logika digunakan untuk mengkombinasikan statement-statement kondisional.\n",
    "macam-macam operator logika:"
   ]
  },
  {
   "cell_type": "raw",
   "metadata": {},
   "source": [
    "and  -> kondisi menjadi benar apabila semua statementnya benar\n",
    "or   -> Kondisi menjadi benar apabila salah satu statementnya benar\n",
    "not  -> membalik hasil dari benar ke salah dan salah ke benar"
   ]
  },
  {
   "cell_type": "code",
   "execution_count": 7,
   "metadata": {},
   "outputs": [
    {
     "name": "stdout",
     "output_type": "stream",
     "text": [
      "False\n",
      "False\n",
      "True\n"
     ]
    }
   ],
   "source": [
    "# Contoh penggunaan operator logika\n",
    "\n",
    "print(True and False)\n",
    "print(False or False)\n",
    "print(not False and True)"
   ]
  },
  {
   "cell_type": "code",
   "execution_count": 8,
   "metadata": {},
   "outputs": [
    {
     "name": "stdout",
     "output_type": "stream",
     "text": [
      "True\n",
      "True\n",
      "False\n"
     ]
    }
   ],
   "source": [
    "# Latihan Operator 4\n",
    "# Buatlah program penerapan operator logika dengan \n",
    "# nilai-nilai yang berbeda dari contoh diatas\n",
    "\n",
    "print(True and True)\n",
    "print(False or True)\n",
    "print(not False and False)"
   ]
  },
  {
   "cell_type": "markdown",
   "metadata": {},
   "source": [
    "Operator Keanggotaan"
   ]
  },
  {
   "cell_type": "markdown",
   "metadata": {},
   "source": [
    "Operator keanggotaan digunakan utuk menguji apakah urutan disajikan dalam suatu objek.\n",
    "Macam-macam operator keanggotaan:"
   ]
  },
  {
   "cell_type": "raw",
   "metadata": {},
   "source": [
    "in     -> return True ketika nilai tertentu dalam sebuah urutan ada\n",
    "not in -> return True ketika nilai tertentu dalam sebuah urutan tidak ada"
   ]
  },
  {
   "cell_type": "code",
   "execution_count": 9,
   "metadata": {},
   "outputs": [
    {
     "name": "stdout",
     "output_type": "stream",
     "text": [
      "True\n",
      "--------------------\n",
      "True\n"
     ]
    }
   ],
   "source": [
    "#contoh penggunaan operator keanggotaan\n",
    "a=(1,2,3,4,5,6)\n",
    "b=2\n",
    "\n",
    "print(b in a)\n",
    "\n",
    "print('-'*20)\n",
    "a=(1,2,3,4,5,6)\n",
    "b=7\n",
    "print(b not in a)"
   ]
  },
  {
   "cell_type": "code",
   "execution_count": 10,
   "metadata": {},
   "outputs": [
    {
     "name": "stdout",
     "output_type": "stream",
     "text": [
      "True\n",
      "--------------------\n",
      "False\n"
     ]
    }
   ],
   "source": [
    "# Latihan Operator 5\n",
    "# Buatlah program penerapan operator keanggotaan/membership dengan \n",
    "# nilai-nilai yang berbeda dari contoh diatas\n",
    "\n",
    "a=(1,2,3,4,5,6,7,8,9,10)\n",
    "b=21\n",
    "\n",
    "print(b not in a)\n",
    "\n",
    "print('-'*20)\n",
    "a=(1,2,3,4,5,6,7,8,9,10)\n",
    "b=21\n",
    "print(b in a)"
   ]
  }
 ],
 "metadata": {
  "kernelspec": {
   "display_name": "Python 3",
   "language": "python",
   "name": "python3"
  },
  "language_info": {
   "codemirror_mode": {
    "name": "ipython",
    "version": 3
   },
   "file_extension": ".py",
   "mimetype": "text/x-python",
   "name": "python",
   "nbconvert_exporter": "python",
   "pygments_lexer": "ipython3",
   "version": "3.7.3"
  }
 },
 "nbformat": 4,
 "nbformat_minor": 2
}
