{
 "cells": [
  {
   "cell_type": "raw",
   "metadata": {},
   "source": [
    "Looping/Perulangan\n",
    "Python menyediakan dua statement untuk melakukan proses perulangan yaitu for dan while. Diantara kedua statement ini, secara umum for lebih banyak digunakan daripada while"
   ]
  },
  {
   "cell_type": "markdown",
   "metadata": {},
   "source": [
    "For Loop"
   ]
  },
  {
   "cell_type": "raw",
   "metadata": {},
   "source": [
    "Perulangan for digunakan untuk melakukan iterasi di dalam sequence seperti list,tuple,string, dan array atau objek yang dapat diiterasi lainnya."
   ]
  },
  {
   "cell_type": "markdown",
   "metadata": {},
   "source": [
    "For Loop Syntax"
   ]
  },
  {
   "cell_type": "raw",
   "metadata": {},
   "source": [
    "for val in sequence:\n",
    "    loop body"
   ]
  },
  {
   "cell_type": "markdown",
   "metadata": {},
   "source": [
    "Example: Python For Loop"
   ]
  },
  {
   "cell_type": "code",
   "execution_count": 1,
   "metadata": {},
   "outputs": [
    {
     "name": "stdout",
     "output_type": "stream",
     "text": [
      "27\n"
     ]
    }
   ],
   "source": [
    "#Program untuk menghitung jumlah semua angka dalam sebuah list\n",
    "L1=[2,4,5,7,9]\n",
    "jumlah=0\n",
    "\n",
    "#iterasi di dalam list\n",
    "for i in L1:\n",
    "    jumlah=jumlah+i\n",
    "print(jumlah)"
   ]
  },
  {
   "cell_type": "markdown",
   "metadata": {},
   "source": [
    "The range() function"
   ]
  },
  {
   "cell_type": "code",
   "execution_count": 2,
   "metadata": {},
   "outputs": [
    {
     "name": "stdout",
     "output_type": "stream",
     "text": [
      "teh\n",
      "boba\n",
      "kopi\n",
      "susu\n"
     ]
    }
   ],
   "source": [
    "#Program untuk melakukan iterasi didalam list melalui indeks\n",
    "minuman = [\"teh\", \"boba\", \"kopi\", \"susu\"]\n",
    "p = len(minuman)\n",
    "\n",
    "#iterasi didalam list melalui indeks\n",
    "for i in range (p):\n",
    "    print(minuman[i])"
   ]
  },
  {
   "cell_type": "markdown",
   "metadata": {},
   "source": [
    "for loop with else"
   ]
  },
  {
   "cell_type": "code",
   "execution_count": 3,
   "metadata": {},
   "outputs": [
    {
     "name": "stdout",
     "output_type": "stream",
     "text": [
      "teh\n",
      "boba\n",
      "kopi\n",
      "susu\n",
      "Elemen Sudah Habis\n"
     ]
    }
   ],
   "source": [
    "#contoh for loop menggunakan else\n",
    "for i in range(p):\n",
    "    print(minuman[i])\n",
    "else:\n",
    "    print(\"Elemen Sudah Habis\")"
   ]
  },
  {
   "cell_type": "markdown",
   "metadata": {},
   "source": [
    "Latihan 1"
   ]
  },
  {
   "cell_type": "raw",
   "metadata": {},
   "source": [
    "Diberikan list_tagihan. Anda diminta untuk menghitung jumlah seluruh tagihan!. Gunakan looping for untuk menyelesaikan tugas ini! Simpan hasilnya pada variabel total_tagihan!"
   ]
  },
  {
   "cell_type": "code",
   "execution_count": 4,
   "metadata": {},
   "outputs": [
    {
     "name": "stdout",
     "output_type": "stream",
     "text": [
      "total tagihannya adalah : 550000\n"
     ]
    }
   ],
   "source": [
    "list_tagihan = [50000, 75000, -150000, 125000, 300000, -50000, 200000]\n",
    "total_tagihan=0\n",
    "for i in list_tagihan:\n",
    "    total_tagihan=total_tagihan+i\n",
    "print(\"total tagihannya adalah :\",total_tagihan)"
   ]
  },
  {
   "cell_type": "raw",
   "metadata": {},
   "source": [
    "While Loop"
   ]
  },
  {
   "cell_type": "raw",
   "metadata": {},
   "source": [
    "While Loop pada Python digunakan untuk melakukan iterasi pada blok kode selama nilai dari test expression adalah true.\n",
    "Syntax of While Loop in Python"
   ]
  },
  {
   "cell_type": "raw",
   "metadata": {},
   "source": [
    "while test_expression:\n",
    "    Body of while"
   ]
  },
  {
   "cell_type": "markdown",
   "metadata": {},
   "source": [
    "Example: Python While Loop"
   ]
  },
  {
   "cell_type": "code",
   "execution_count": 5,
   "metadata": {},
   "outputs": [
    {
     "name": "stdout",
     "output_type": "stream",
     "text": [
      "55\n"
     ]
    }
   ],
   "source": [
    "#Program untuk menjumlahkan semua bilangan asli\n",
    "#hingga suku ke-n\n",
    "#jum=1+2+3+..+n\n",
    "\n",
    "n=10\n",
    "jumlah=0\n",
    "i=1\n",
    "\n",
    "while i<=n:\n",
    "    jumlah=jumlah+i\n",
    "    i=i+1\n",
    "print(jumlah)"
   ]
  },
  {
   "cell_type": "markdown",
   "metadata": {},
   "source": [
    "While Loop with else"
   ]
  },
  {
   "cell_type": "raw",
   "metadata": {},
   "source": [
    "Sama dengan for loop kita juga dapat mengkombinasikan while loop dengan blok else.\n",
    "Bagian else akan dieksekusi jika nilai pada text expression pada while loop bernilai false. perhatikan contoh berikut:"
   ]
  },
  {
   "cell_type": "code",
   "execution_count": 6,
   "metadata": {},
   "outputs": [
    {
     "name": "stdout",
     "output_type": "stream",
     "text": [
      "55\n"
     ]
    }
   ],
   "source": [
    "jum = 0\n",
    "i=1\n",
    "while i<=n:\n",
    "    jum=jum+i\n",
    "    i=i+1\n",
    "else:\n",
    "    print(jum) #dieksekusi diluar looping"
   ]
  },
  {
   "cell_type": "markdown",
   "metadata": {},
   "source": [
    "Latihan 2"
   ]
  },
  {
   "cell_type": "code",
   "execution_count": 7,
   "metadata": {},
   "outputs": [
    {
     "name": "stdout",
     "output_type": "stream",
     "text": [
      "750000\n"
     ]
    }
   ],
   "source": [
    "#Diberikan list tagihan hitunglah total_tagihan menggunakan while loop.\n",
    "tagihan=[50000,75000,125000,300000,200000]\n",
    "total=0\n",
    "i=0\n",
    "n=len(tagihan)\n",
    "while i<n:\n",
    "    total=total+tagihan[i]\n",
    "    i=i+1\n",
    "print(total)"
   ]
  }
 ],
 "metadata": {
  "kernelspec": {
   "display_name": "Python 3",
   "language": "python",
   "name": "python3"
  },
  "language_info": {
   "codemirror_mode": {
    "name": "ipython",
    "version": 3
   },
   "file_extension": ".py",
   "mimetype": "text/x-python",
   "name": "python",
   "nbconvert_exporter": "python",
   "pygments_lexer": "ipython3",
   "version": "3.7.3"
  }
 },
 "nbformat": 4,
 "nbformat_minor": 2
}
