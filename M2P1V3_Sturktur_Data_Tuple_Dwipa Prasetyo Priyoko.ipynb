{
 "cells": [
  {
   "cell_type": "raw",
   "metadata": {},
   "source": [
    "Struktur Data Tuple\n",
    "\n",
    "Tuple adalah jenis dari struktur data yang tidak dapat diubah elemennya.Umumnya tuple digunakan untuk data yang bersifat sekali tulis, dan dapat dieksekusi lebih cepat. Tuple didefisiniskan dengan kurung dan elemen yang dipisahkan dengan koma."
   ]
  },
  {
   "cell_type": "code",
   "execution_count": 1,
   "metadata": {},
   "outputs": [
    {
     "name": "stdout",
     "output_type": "stream",
     "text": [
      "ini adalah Tuple: (1, 'dua', True, (1+2j))\n"
     ]
    }
   ],
   "source": [
    "#Contoh tuple\n",
    "T1=(1,\"dua\",True,1+2j)\n",
    "print(\"ini adalah Tuple:\",T1)"
   ]
  },
  {
   "cell_type": "code",
   "execution_count": 2,
   "metadata": {},
   "outputs": [
    {
     "data": {
      "text/plain": [
       "tuple"
      ]
     },
     "execution_count": 2,
     "metadata": {},
     "output_type": "execute_result"
    }
   ],
   "source": [
    "#Menampilkan tipe struktur data\n",
    "type(T1)"
   ]
  },
  {
   "cell_type": "code",
   "execution_count": 3,
   "metadata": {},
   "outputs": [
    {
     "name": "stdout",
     "output_type": "stream",
     "text": [
      "ini adalah tuple: (2, 'Sembilan', (5+7j), True)\n"
     ]
    }
   ],
   "source": [
    "# Latihan\n",
    "# Buatlah Tuplemu Sendiri\n",
    "T4=(2,\"Sembilan\",5+7j,True)\n",
    "print(\"ini adalah tuple:\",T4)"
   ]
  },
  {
   "cell_type": "raw",
   "metadata": {},
   "source": [
    "Sifat-Sifat Tuple"
   ]
  },
  {
   "cell_type": "code",
   "execution_count": 4,
   "metadata": {},
   "outputs": [
    {
     "data": {
      "text/plain": [
       "(1, 'dua', True)"
      ]
     },
     "execution_count": 4,
     "metadata": {},
     "output_type": "execute_result"
    }
   ],
   "source": [
    "#Terurut/Ordered\n",
    "T1[0:3]"
   ]
  },
  {
   "cell_type": "code",
   "execution_count": 5,
   "metadata": {},
   "outputs": [
    {
     "ename": "TypeError",
     "evalue": "'tuple' object does not support item assignment",
     "output_type": "error",
     "traceback": [
      "\u001b[1;31m---------------------------------------------------------------------------\u001b[0m",
      "\u001b[1;31mTypeError\u001b[0m                                 Traceback (most recent call last)",
      "\u001b[1;32m<ipython-input-5-569a99971893>\u001b[0m in \u001b[0;36m<module>\u001b[1;34m\u001b[0m\n\u001b[0;32m      1\u001b[0m \u001b[1;31m#Tidak Bisa Diganti/Mutable\u001b[0m\u001b[1;33m\u001b[0m\u001b[1;33m\u001b[0m\u001b[1;33m\u001b[0m\u001b[0m\n\u001b[1;32m----> 2\u001b[1;33m \u001b[0mT1\u001b[0m\u001b[1;33m[\u001b[0m\u001b[1;36m2\u001b[0m\u001b[1;33m]\u001b[0m\u001b[1;33m=\u001b[0m\u001b[1;34m\"Manusia\"\u001b[0m\u001b[1;33m\u001b[0m\u001b[1;33m\u001b[0m\u001b[0m\n\u001b[0m",
      "\u001b[1;31mTypeError\u001b[0m: 'tuple' object does not support item assignment"
     ]
    }
   ],
   "source": [
    "#Tidak Bisa Diganti/Mutable\n",
    "T1[2]=\"Manusia\""
   ]
  },
  {
   "cell_type": "code",
   "execution_count": 6,
   "metadata": {},
   "outputs": [
    {
     "name": "stdout",
     "output_type": "stream",
     "text": [
      "Elemen kedua dari tuple T1 dua\n"
     ]
    }
   ],
   "source": [
    "#Dapat Diindeks/Slicing\n",
    "print(\"Elemen kedua dari tuple T1\",T1[1])"
   ]
  },
  {
   "cell_type": "code",
   "execution_count": 7,
   "metadata": {},
   "outputs": [
    {
     "data": {
      "text/plain": [
       "(3, 2.4, True, 2.4)"
      ]
     },
     "execution_count": 7,
     "metadata": {},
     "output_type": "execute_result"
    }
   ],
   "source": [
    "#Dapat Diijinkan duplikasi\n",
    "T2 = (3,2.4,True,2.4)\n",
    "T2"
   ]
  },
  {
   "cell_type": "code",
   "execution_count": 8,
   "metadata": {},
   "outputs": [
    {
     "data": {
      "text/plain": [
       "(1, 'dua', True, (1+2j), 3, 2.4, True, 2.4)"
      ]
     },
     "execution_count": 8,
     "metadata": {},
     "output_type": "execute_result"
    }
   ],
   "source": [
    "#Menggabungkan tuple\n",
    "T3=T1+T2\n",
    "T3"
   ]
  },
  {
   "cell_type": "code",
   "execution_count": 9,
   "metadata": {},
   "outputs": [
    {
     "data": {
      "text/plain": [
       "(2, 'Sembilan', (5+7j), True, 3.5, 'Tujuh', False)"
      ]
     },
     "execution_count": 9,
     "metadata": {},
     "output_type": "execute_result"
    }
   ],
   "source": [
    "#Latihan 2\n",
    "#Buatlah tuple kedua lalu gabungkan 2 tuple yang telah kamu buat\n",
    "\n",
    "T4=(2,\"Sembilan\",5+7j,True)\n",
    "T5=(3.5,\"Tujuh\",False)\n",
    "T6=T4+T5\n",
    "T6"
   ]
  }
 ],
 "metadata": {
  "kernelspec": {
   "display_name": "Python 3",
   "language": "python",
   "name": "python3"
  },
  "language_info": {
   "codemirror_mode": {
    "name": "ipython",
    "version": 3
   },
   "file_extension": ".py",
   "mimetype": "text/x-python",
   "name": "python",
   "nbconvert_exporter": "python",
   "pygments_lexer": "ipython3",
   "version": "3.7.3"
  }
 },
 "nbformat": 4,
 "nbformat_minor": 2
}
